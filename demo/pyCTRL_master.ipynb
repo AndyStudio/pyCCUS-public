{
 "cells": [
  {
   "cell_type": "markdown",
   "metadata": {},
   "source": [
    "# Master control file\n",
    "\n",
    "- write CMG input\n",
    "- run CMG dat files\n",
    "- write CMG rwd files (input number of layers, etc)\n",
    "- run CMG rwd files to generate rwo\n",
    "- read rwo to npy files\n",
    "- save all npy files\n",
    "\n",
    "### options of win or linux"
   ]
  },
  {
   "cell_type": "code",
   "execution_count": 1,
   "metadata": {},
   "outputs": [],
   "source": [
    "import numpy as np\n",
    "import pandas as pd\n",
    "import os\n",
    "import matplotlib.pyplot as plt  "
   ]
  },
  {
   "cell_type": "code",
   "execution_count": 2,
   "metadata": {},
   "outputs": [],
   "source": [
    "import sys\n",
    "# append the path of the parent directory\n",
    "sys.path.append(\"..\")\n",
    "\n",
    "# import method from sibling module\n",
    "from utils.pyCMG_Model import well_design_opt\n",
    "from utils.pySherlock import pysherlock\n",
    "# import method from sibling module\n",
    "from utils.pyCMG_Control import pycmgcontrol"
   ]
  },
  {
   "cell_type": "markdown",
   "metadata": {},
   "source": [
    "### All input information here"
   ]
  },
  {
   "cell_type": "code",
   "execution_count": 3,
   "metadata": {},
   "outputs": [],
   "source": [
    "wellopt = well_design_opt()\n",
    "sherlock = pysherlock()"
   ]
  },
  {
   "cell_type": "code",
   "execution_count": 4,
   "metadata": {},
   "outputs": [],
   "source": [
    "folder_path = '/Users/yunanli/Library/CloudStorage/OneDrive-Stanford/1.CUSP/CCUS/data/well_design_exp3/datfiles'\n",
    "dat_file_name = 'test.dat'\n",
    "initial = (17,17,80)\n",
    "end = (17,17,100)\n",
    "\n",
    "pyCTRL_folder_path = '/Users/yunanli/Library/CloudStorage/OneDrive-Stanford/1.CUSP/CCUS/data/well_design_exp3/pyCTRLfiles'\n",
    "\n",
    "idx = 0"
   ]
  },
  {
   "cell_type": "markdown",
   "metadata": {},
   "source": [
    "### Step1: write CMG input"
   ]
  },
  {
   "cell_type": "code",
   "execution_count": null,
   "metadata": {},
   "outputs": [],
   "source": [
    "_,_,_ = wellopt.write_dat_file(folder_path, dat_file_name, initial, end)"
   ]
  },
  {
   "cell_type": "markdown",
   "metadata": {},
   "source": [
    "### Step2: run CMG dat files"
   ]
  },
  {
   "cell_type": "code",
   "execution_count": 1,
   "metadata": {},
   "outputs": [],
   "source": [
    "## Write the control file in Python\n",
    "sherlock.write_pyCTRLfile(folder_path=pyCTRL_folder_path, caseid=idx)\n",
    "# Python pycontrol.py\n",
    "\n"
   ]
  },
  {
   "cell_type": "code",
   "execution_count": null,
   "metadata": {},
   "outputs": [],
   "source": []
  },
  {
   "cell_type": "markdown",
   "id": "5acb1a8b",
   "metadata": {},
   "source": [
    "## Steps from CMG result sr3 files to properties npy files\n",
    "\n",
    "- Refer to util/pyCMG_Control.py file"
   ]
  },
  {
   "cell_type": "code",
   "execution_count": null,
   "metadata": {},
   "outputs": [],
   "source": [
    "pycmgctrl = pycmgcontrol(exp_name='injection sensitivity study',\n",
    "                         simfolder='E:\\\\CUSP_win\\\\GEM_CCS\\\\SPR_model\\\\SPR_petrel_model2CMG\\\\extended_6x6\\\\Etchegoin_shale\\\\well_design_exp3_VOLMOD2\\\\')\n",
    "\n",
    "##### May want to update info if needed #####\n",
    "# pycmgctrl.batchfolder = 'test_batch'\n",
    "print(pycmgctrl.batchfolder)\n",
    "print(pycmgctrl.proplist)\n",
    "#############################################"
   ]
  },
  {
   "cell_type": "code",
   "execution_count": null,
   "id": "ffd2dd20",
   "metadata": {},
   "outputs": [],
   "source": [
    "for cid in [130,136,137,243,670,671,714]:\n",
    "    for inj_case in [1,2,3]:\n",
    "        idx = f'{cid}_inj{inj_case}'\n",
    "        pycmgctrl.cmgrst2npy(caseid=idx)"
   ]
  }
 ],
 "metadata": {
  "kernelspec": {
   "display_name": "Python 3",
   "language": "python",
   "name": "python3"
  },
  "language_info": {
   "codemirror_mode": {
    "name": "ipython",
    "version": 3
   },
   "file_extension": ".py",
   "mimetype": "text/x-python",
   "name": "python",
   "nbconvert_exporter": "python",
   "pygments_lexer": "ipython3",
   "version": "3.8.3"
  }
 },
 "nbformat": 4,
 "nbformat_minor": 5
}
