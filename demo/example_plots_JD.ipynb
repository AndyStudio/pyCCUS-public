{
 "cells": [
  {
   "cell_type": "code",
   "execution_count": 1,
   "metadata": {},
   "outputs": [],
   "source": [
    "import os\n",
    "import pandas as pd\n",
    "import numpy as np\n",
    "import plotly.express as px\n",
    "import matplotlib.colors as mcolors\n",
    "import matplotlib.pyplot as plt   \n",
    "from matplotlib.pyplot import cm\n",
    "\n",
    "import plotly.graph_objects as go\n",
    "from plotly.subplots import make_subplots\n",
    "from sklearn.decomposition import PCA, IncrementalPCA"
   ]
  },
  {
   "cell_type": "code",
   "execution_count": null,
   "metadata": {},
   "outputs": [],
   "source": [
    "import sys\n",
    "# append the path of the parent directory\n",
    "sys.path.append(\"..\")\n",
    "\n",
    "# import method from sibling module\n",
    "from utils.pyCMG_Results import pycmgresults, pycmgpostcalc\n",
    "from utils.pyCMG_Visualization import rst_viz"
   ]
  },
  {
   "cell_type": "code",
   "execution_count": null,
   "metadata": {},
   "outputs": [],
   "source": []
  },
  {
   "cell_type": "markdown",
   "metadata": {},
   "source": [
    "## You need to read a dataframe from excel or csv as df_rst"
   ]
  },
  {
   "cell_type": "code",
   "execution_count": null,
   "metadata": {},
   "outputs": [],
   "source": [
    "fig = px.scatter(df_rst,\n",
    "                 x='dPmax_top', y='2142size, sqkm', color='dPmax_fault',\n",
    "                 size='dPmax_fault', hover_data=['caseid','2041size, sqkm'],\n",
    "                 labels={\n",
    "                     'Fault, psi': 'Fault dP',\n",
    "                 }\n",
    "                )\n",
    "fig.update_layout(\n",
    "    font_family=\"Courier New\",\n",
    "    font_size=32,\n",
    "    title_font_family=\"Times New Roman\",\n",
    "    title_font_color=\"red\",\n",
    "    legend_title_font_color=\"green\"\n",
    ")\n",
    "fig.show()"
   ]
  },
  {
   "cell_type": "code",
   "execution_count": null,
   "metadata": {},
   "outputs": [],
   "source": []
  },
  {
   "cell_type": "markdown",
   "metadata": {},
   "source": [
    "## How to plot a 3D npy array as a video?"
   ]
  },
  {
   "cell_type": "code",
   "execution_count": null,
   "metadata": {},
   "outputs": [],
   "source": [
    "unet_folder = '../data'\n",
    "unet_exp = 'exp1'\n",
    "GCS_viz = rst_viz()\n",
    "\n",
    "y_pred = np.load(os.path.join(unet_folder, 'trained_AI_models', unet_exp, 'SG_pred_all.npy'))\n",
    "y_truth = np.load(os.path.join(unet_folder, 'rst_npy_combined', 'SG_all.npy'))\n",
    "InSAR = np.load(os.path.join(unet_folder, 'InSAR', 'InSAR_all.npy'))"
   ]
  },
  {
   "cell_type": "markdown",
   "metadata": {},
   "source": [
    "### Get your video array\n",
    "- Shape in (3, 19, 200, 200)\n",
    "- 3 means we have InSAR, y_truth, y_pred three different properties to plot\n",
    "- 19 means the time dimension. We have 19 time steps for the video\n",
    "- 200 x 200: the pixel of each image"
   ]
  },
  {
   "cell_type": "code",
   "execution_count": null,
   "metadata": {},
   "outputs": [],
   "source": [
    "GCS_viz.plot_animation_InSAR_AI_surveillance(video=video, \n",
    "                                             title='InSAR surveillance: SG')"
   ]
  },
  {
   "cell_type": "markdown",
   "metadata": {},
   "source": [
    "### You can also plot via plotly"
   ]
  },
  {
   "cell_type": "code",
   "execution_count": null,
   "metadata": {},
   "outputs": [],
   "source": [
    "fig = px.imshow(video, animation_frame=1, facet_col=0, color_continuous_scale='gray_r')\n",
    "\n",
    "# fig.update_layout(coloraxis_showscale=False)\n",
    "fig.update_xaxes(showticklabels=False)\n",
    "fig.update_yaxes(showticklabels=False)\n",
    "\n",
    "fig.show()"
   ]
  }
 ],
 "metadata": {
  "kernelspec": {
   "display_name": "ccus",
   "language": "python",
   "name": "python3"
  },
  "language_info": {
   "codemirror_mode": {
    "name": "ipython",
    "version": 3
   },
   "file_extension": ".py",
   "mimetype": "text/x-python",
   "name": "python",
   "nbconvert_exporter": "python",
   "pygments_lexer": "ipython3",
   "version": "3.12.0"
  }
 },
 "nbformat": 4,
 "nbformat_minor": 2
}
